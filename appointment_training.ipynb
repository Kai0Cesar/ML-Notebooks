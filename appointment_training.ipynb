{
 "cells": [
  {
   "cell_type": "code",
   "execution_count": null,
   "metadata": {},
   "outputs": [],
   "source": [
    "!pip install pandas\n",
    "!pip install numpy\n",
    "!pip install sklearn"
   ]
  },
  {
   "cell_type": "code",
   "execution_count": 1,
   "metadata": {},
   "outputs": [],
   "source": [
    "import pandas as pd \n",
    "import numpy as np\n",
    "\n",
    "#Preprocessing\n",
    "from sklearn.compose import ColumnTransformer\n",
    "from sklearn.pipeline import Pipeline\n",
    "from sklearn.preprocessing import LabelEncoder\n",
    "from sklearn.impute import SimpleImputer\n",
    "\n",
    "#Modello\n",
    "from sklearn.tree import DecisionTreeClassifier\n",
    "\n",
    "#Metrica\n",
    "from sklearn.metrics import accuracy_score"
   ]
  },
  {
   "cell_type": "code",
   "execution_count": 2,
   "metadata": {},
   "outputs": [],
   "source": [
    "train_data = pd.read_csv('train.csv')\n",
    "test_data = pd.read_csv('test.csv')"
   ]
  },
  {
   "cell_type": "code",
   "execution_count": 3,
   "metadata": {},
   "outputs": [],
   "source": [
    "#Feature engineering con le feature che rappresentano date\n",
    "def date_features(df):\n",
    "    df['ScheduledDay'] = pd.to_datetime(df['ScheduledDay'], errors='coerce')\n",
    "    df['AppointmentDay'] = pd.to_datetime(df['AppointmentDay'], errors='coerce')\n",
    "    df['Appointment_day_of_week'] = df.AppointmentDay.dt.dayofweek\n",
    "    df['Appointment_day'] = df.AppointmentDay.dt.day\n",
    "    df['Appointment_month'] = df.AppointmentDay.dt.month\n",
    "    df['Appointment_year'] = df.AppointmentDay.dt.year\n",
    "    df['Appointment_awaiting'] = df.AppointmentDay.dt.dayofyear - df.ScheduledDay.dt.dayofyear"
   ]
  },
  {
   "cell_type": "code",
   "execution_count": 4,
   "metadata": {},
   "outputs": [],
   "source": [
    "#Encoder\n",
    "def feature_encoder(df):  \n",
    "    cat_features = ['No-show', 'Gender', 'Appointment_year']\n",
    "    label_encoder = LabelEncoder()\n",
    "    for feature in cat_features:\n",
    "        df[feature] = label_encoder.fit_transform(df[feature])"
   ]
  },
  {
   "cell_type": "code",
   "execution_count": 5,
   "metadata": {},
   "outputs": [],
   "source": [
    "#Imputer\n",
    "def feature_imputer(df):\n",
    "    cat_features = df.select_dtypes(include=['object','bool']).columns.tolist()\n",
    "    num_features = df.select_dtypes(include=['int64','float64']).columns.tolist()\n",
    "\n",
    "    imputer_num = Pipeline(steps=[\n",
    "        ('imp_num', SimpleImputer())\n",
    "    ])\n",
    "\n",
    "    imputer_cat = Pipeline(steps=[\n",
    "        ('imp_cat', SimpleImputer(strategy=\"most_frequent\"))\n",
    "    ])\n",
    "\n",
    "    feature_imputer = ColumnTransformer(\n",
    "        remainder='passthrough',\n",
    "        transformers=[\n",
    "            ('imp_num', imputer_num, num_features),\n",
    "            ('imp_cat', imputer_cat, cat_features)\n",
    "])"
   ]
  },
  {
   "cell_type": "code",
   "execution_count": 6,
   "metadata": {},
   "outputs": [],
   "source": [
    "#Preprocessing dati di train\n",
    "train_pipe = Pipeline([\n",
    "    ('date', date_features(train_data)),\n",
    "    ('encoder', feature_encoder(train_data)),\n",
    "    ('imputer', feature_imputer(train_data)),\n",
    "])"
   ]
  },
  {
   "cell_type": "code",
   "execution_count": 7,
   "metadata": {},
   "outputs": [],
   "source": [
    "#Preprocessing dati di test\n",
    "test_pipe = Pipeline([\n",
    "    ('date', date_features(test_data)),\n",
    "    ('encoder', feature_encoder(test_data)),\n",
    "    ('imputer', feature_imputer(test_data)),\n",
    "])"
   ]
  },
  {
   "cell_type": "code",
   "execution_count": 8,
   "metadata": {},
   "outputs": [],
   "source": [
    "#Colonne inutili ai fini del training e da eliminare\n",
    "cols_to_drop = ['No-show','PatientId', 'AppointmentID', 'AppointmentDay', 'ScheduledDay', 'Age', 'Neighbourhood']"
   ]
  },
  {
   "cell_type": "code",
   "execution_count": 9,
   "metadata": {},
   "outputs": [],
   "source": [
    "#Inizializzazione dati di training e test\n",
    "X_train = train_data.drop(cols_to_drop, axis=1)\n",
    "X_test = test_data.drop(cols_to_drop, axis=1)\n",
    "y_train = pd.DataFrame(train_data['No-show'])\n",
    "y_test = pd.DataFrame(test_data['No-show'])"
   ]
  },
  {
   "cell_type": "code",
   "execution_count": 20,
   "metadata": {},
   "outputs": [],
   "source": [
    "#Instanziazzione del DecisionTreeClassifier; utilizza una foresta di alberi di decisione (100 default), con profondità massima 10 e che utilizza\n",
    "#l'information gain come criterio\n",
    "decision_tree = DecisionTreeClassifier(random_state=42,max_depth=10,criterion='entropy')"
   ]
  },
  {
   "cell_type": "code",
   "execution_count": 21,
   "metadata": {},
   "outputs": [
    {
     "data": {
      "text/plain": [
       "DecisionTreeClassifier(ccp_alpha=0.0, class_weight=None, criterion='entropy',\n",
       "                       max_depth=10, max_features=None, max_leaf_nodes=None,\n",
       "                       min_impurity_decrease=0.0, min_impurity_split=None,\n",
       "                       min_samples_leaf=1, min_samples_split=2,\n",
       "                       min_weight_fraction_leaf=0.0, presort='deprecated',\n",
       "                       random_state=42, splitter='best')"
      ]
     },
     "execution_count": 21,
     "metadata": {},
     "output_type": "execute_result"
    }
   ],
   "source": [
    "decision_tree.fit(X_train, y_train.values.ravel())"
   ]
  },
  {
   "cell_type": "code",
   "execution_count": 23,
   "metadata": {},
   "outputs": [
    {
     "name": "stdout",
     "output_type": "stream",
     "text": [
      "Decision Tree accuracy score: 0.800\n"
     ]
    }
   ],
   "source": [
    "train_prediction = decision_tree.predict(X_train)\n",
    "test_prediction = decision_tree.predict(X_test)\n",
    "\n",
    "accuracy = accuracy_score(y_test, test_prediction)\n",
    "print('Decision Tree accuracy score: {:.3f}'.format(accuracy))"
   ]
  },
  {
   "cell_type": "code",
   "execution_count": null,
   "metadata": {},
   "outputs": [],
   "source": []
  }
 ],
 "metadata": {
  "kernelspec": {
   "display_name": "Python 3",
   "language": "python",
   "name": "python3"
  },
  "language_info": {
   "codemirror_mode": {
    "name": "ipython",
    "version": 3
   },
   "file_extension": ".py",
   "mimetype": "text/x-python",
   "name": "python",
   "nbconvert_exporter": "python",
   "pygments_lexer": "ipython3",
   "version": "3.7.6"
  }
 },
 "nbformat": 4,
 "nbformat_minor": 4
}
